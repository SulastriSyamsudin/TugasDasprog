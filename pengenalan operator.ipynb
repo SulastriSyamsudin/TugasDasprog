{
 "cells": [
  {
   "cell_type": "code",
   "execution_count": null,
   "id": "393407aa-ac6f-404e-89c4-188736281bb1",
   "metadata": {},
   "outputs": [],
   "source": [
    "#1. Operator Aritmetika\n",
    "budi_apel = 12\n",
    "teman = 4 \n",
    "apel_per_teman = budi_apel / teman\n",
    "print(\"Apel per teman:\", apel_per_teman)\n",
    "\n",
    "budi_apel += 8\n",
    "print(\"Total apel sekarang:\", budi_apel)"
   ]
  },
  {
   "cell_type": "code",
   "execution_count": null,
   "id": "089d4a91-3814-4cbb-a6f1-78fa2b5a2d41",
   "metadata": {},
   "outputs": [],
   "source": []
  }
 ],
 "metadata": {
  "kernelspec": {
   "display_name": "Python 3 (ipykernel)",
   "language": "python",
   "name": "python3"
  },
  "language_info": {
   "name": ""
  }
 },
 "nbformat": 4,
 "nbformat_minor": 5
}
