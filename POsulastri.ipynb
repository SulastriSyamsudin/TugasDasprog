{
 "cells": [
  {
   "cell_type": "code",
   "execution_count": 4,
   "id": "a3d0916c-e9c2-4c82-8d18-14fb372ad6c7",
   "metadata": {},
   "outputs": [
    {
     "name": "stdout",
     "output_type": "stream",
     "text": [
      "Apel per teman: 3.0\n",
      "Total apel sekarang: 20\n"
     ]
    }
   ],
   "source": [
    "# 1. Operator Aritmetika\n",
    "budi_apel = 12\n",
    "teman = 4\n",
    "apel_per_teman = budi_apel / teman\n",
    "print(\"Apel per teman:\", apel_per_teman)\n",
    "\n",
    "budi_apel += 8\n",
    "print(\"Total apel sekarang:\", budi_apel)"
   ]
  },
  {
   "cell_type": "code",
   "execution_count": 3,
   "id": "d89e08b9-0632-42e4-87c0-ca88c0452957",
   "metadata": {},
   "outputs": [
    {
     "name": "stdout",
     "output_type": "stream",
     "text": [
      "Andi lebih tinngi.\n"
     ]
    }
   ],
   "source": [
    "# 2. Operator Perbandingan\n",
    "siti_tinggi = 160\n",
    "andi_tinggi = 165\n",
    "lebih_tinggi = \"Andi\" if andi_tinggi > siti_tinggi else \"Siti\"\n",
    "print(f\"{lebih_tinggi} lebih tinngi.\")"
   ]
  },
  {
   "cell_type": "code",
   "execution_count": 5,
   "id": "7f32c97c-5271-46e4-becb-2fc3374259ff",
   "metadata": {},
   "outputs": [
    {
     "name": "stdout",
     "output_type": "stream",
     "text": [
      "Budi bisa bermain: False\n"
     ]
    }
   ],
   "source": [
    "# 3. Operator Logika\n",
    "cuaca_cerah = True\n",
    "sudah_selesai_pr = False\n",
    "bisa_bermain = cuaca_cerah and sudah_selesai_pr\n",
    "print(\"Budi bisa bermain:\", bisa_bermain)"
   ]
  },
  {
   "cell_type": "code",
   "execution_count": 6,
   "id": "6b396686-830a-452c-a30f-4471c8da060c",
   "metadata": {},
   "outputs": [
    {
     "name": "stdout",
     "output_type": "stream",
     "text": [
      "AND: 0b10\n",
      "OR: 0b111\n",
      "XOR: 0b101\n"
     ]
    }
   ],
   "source": [
    "# 4. Operator Bitwise\n",
    "angka1 = 0b0110 # 6 dalam biner\n",
    "angka2 = 0b0011 # 3 dalam biner\n",
    "\n",
    "hasil_and = angka1 & angka2\n",
    "hasil_or = angka1 | angka2\n",
    "hasil_xor = angka1 ^ angka2\n",
    "\n",
    "print(\"AND:\", bin(hasil_and))\n",
    "print(\"OR:\", bin(hasil_or))\n",
    "print(\"XOR:\", bin(hasil_xor))"
   ]
  },
  {
   "cell_type": "code",
   "execution_count": 7,
   "id": "db13ce97-d8d0-4162-97a4-02fabffd5ddf",
   "metadata": {},
   "outputs": [
    {
     "name": "stdout",
     "output_type": "stream",
     "text": [
      "Sisa saldo pulsa: 40000\n"
     ]
    }
   ],
   "source": [
    "# 5. Operator Penugasan\n",
    "saldo_pulsa = 50000\n",
    "saldo_pulsa += 20000 #Isi ulang\n",
    "saldo_pulsa -= 30000 #Beli paket\n",
    "print(\"Sisa saldo pulsa:\", saldo_pulsa)"
   ]
  },
  {
   "cell_type": "code",
   "execution_count": 8,
   "id": "fb1d3376-fafd-44e0-b808-588e49e0bddd",
   "metadata": {},
   "outputs": [
    {
     "name": "stdout",
     "output_type": "stream",
     "text": [
      "Apakah Eka terdaftar? False\n",
      "Apakah 'Python' ada dalam kalimat? True\n"
     ]
    }
   ],
   "source": [
    "# 6. Operator Keanggotaan\n",
    "peserta_lomba = [\"Andi\", \"Budi\", \"Citra\", \"Dewi\"]\n",
    "cek_eka = \"Eka\" in peserta_lomba\n",
    "print(\"Apakah Eka terdaftar?\", cek_eka)\n",
    "\n",
    "kalimat = \"Saya suka belajar Python\"\n",
    "cek_python = \"Python\" in kalimat\n",
    "print(\"Apakah 'Python' ada dalam kalimat?\", cek_python)"
   ]
  },
  {
   "cell_type": "code",
   "execution_count": 9,
   "id": "6fc36089-deaa-4f5f-a45c-bc7eda1ec3bd",
   "metadata": {},
   "outputs": [
    {
     "name": "stdout",
     "output_type": "stream",
     "text": [
      "Apakah x dan y merujuk ke objek yang sama? True\n",
      "Apakah list1 dan list2 merujuk ke objek yang sama? False\n"
     ]
    }
   ],
   "source": [
    "# 7. Operator Identitas\n",
    "x = 10\n",
    "y = 10\n",
    "print(\"Apakah x dan y merujuk ke objek yang sama?\", x is y)\n",
    "\n",
    "list1 = [1, 2, 3]\n",
    "list2 = [1, 2, 3]\n",
    "print(\"Apakah list1 dan list2 merujuk ke objek yang sama?\", list1 is list2)"
   ]
  },
  {
   "cell_type": "code",
   "execution_count": 11,
   "id": "c01a65c5-779a-4463-91aa-5d65ecb8cb56",
   "metadata": {},
   "outputs": [
    {
     "name": "stdout",
     "output_type": "stream",
     "text": [
      "Lebih dari 100\n",
      "Status: Lulus\n"
     ]
    }
   ],
   "source": [
    "# 8. Operator Ternary\n",
    "angka = 150\n",
    "lebih_besar = \"Lebih dari 100\" if angka > 100 else \"100 atau kurang\"\n",
    "print(lebih_besar)\n",
    "\n",
    "nilai = 75\n",
    "status = \"Lulus\" if nilai >= 70 else \"Tidak Lulus\"\n",
    "print(\"Status:\", status)"
   ]
  }
 ],
 "metadata": {
  "kernelspec": {
   "display_name": "anaconda-panel-2023.05-py310",
   "language": "python",
   "name": "conda-env-anaconda-panel-2023.05-py310-py"
  },
  "language_info": {
   "codemirror_mode": {
    "name": "ipython",
    "version": 3
   },
   "file_extension": ".py",
   "mimetype": "text/x-python",
   "name": "python",
   "nbconvert_exporter": "python",
   "pygments_lexer": "ipython3",
   "version": "3.11.5"
  }
 },
 "nbformat": 4,
 "nbformat_minor": 5
}
