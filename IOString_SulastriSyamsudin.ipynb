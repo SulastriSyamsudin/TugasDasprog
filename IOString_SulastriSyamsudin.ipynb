{
 "cells": [
  {
   "cell_type": "markdown",
   "id": "b1eed121",
   "metadata": {},
   "source": [
    "<h>\"Input Output String\"</h>"
   ]
  },
  {
   "cell_type": "code",
   "execution_count": 1,
   "id": "ae8761d5",
   "metadata": {},
   "outputs": [
    {
     "name": "stdout",
     "output_type": "stream",
     "text": [
      "Isikan Nama AndaAstri\n",
      "Selamat datang Astri\n",
      "123Andi@Budi@Rudi\n"
     ]
    }
   ],
   "source": [
    "name = input(\"Isikan Nama Anda\")\n",
    "print(\"Selamat datang\",name) #menggunakan variabel dengan string\n",
    "\n",
    "print(\"1\",end='') #mencetak disamping karakter\n",
    "print(\"2\",end='')\n",
    "print(\"3\",end='')\n",
    "\n",
    "#Sepator\n",
    "print(\"Andi\",\"Budi\",\"Rudi\",sep=\"@\")"
   ]
  },
  {
   "cell_type": "markdown",
   "id": "04e775be",
   "metadata": {},
   "source": [
    "<h>\"String Format\"</h>"
   ]
  },
  {
   "cell_type": "code",
   "execution_count": 2,
   "id": "b84a0175",
   "metadata": {},
   "outputs": [
    {
     "name": "stdout",
     "output_type": "stream",
     "text": [
      "Isikan Bilangan 1:10\n",
      "Isikan Bilangan 2:5\n",
      "Hasil Penjumlahan 10 + 5 = 15\n",
      "Hasil penjumlahan 10 + 5 = 15\n"
     ]
    }
   ],
   "source": [
    "val1 = int(input(\"Isikan Bilangan 1:\"))\n",
    "val2 = int(input(\"Isikan Bilangan 2:\"))\n",
    "\n",
    "#Hasil penjumlahan 3 + 4 = 7\n",
    "print(\"Hasil Penjumlahan\",val1,\"+\",val2,\"=\",val1+val2)\n",
    "#String format menggunakan tanda {}\n",
    "print(\"Hasil penjumlahan {} + {} = {}\".format(val1,val2,val1+val2))"
   ]
  },
  {
   "cell_type": "markdown",
   "id": "a988c0e6",
   "metadata": {},
   "source": [
    "<h>\"String Format Index\"</h>"
   ]
  },
  {
   "cell_type": "code",
   "execution_count": 3,
   "id": "8c8c0b10",
   "metadata": {},
   "outputs": [
    {
     "name": "stdout",
     "output_type": "stream",
     "text": [
      "Isikan Nama Depan: Astri\n",
      "Isikan Nama Tengan: Ratu\n",
      "Isikan Nama Belakang: loli\n",
      "Nama Anda : Astri Ratu loli\n",
      "Nama Anda : Ratu Astri loli\n",
      "Nama Anda :Astri Ratu loli\n"
     ]
    }
   ],
   "source": [
    "fName = input(\"Isikan Nama Depan: \")\n",
    "mName = input(\"Isikan Nama Tengan: \")\n",
    "lName = input(\"Isikan Nama Belakang: \")\n",
    "\n",
    "print(\"Nama Anda : {} {} {}\".format(fName,mName,lName))\n",
    "#menggunakan index\n",
    "print(\"Nama Anda : {1} {0} {2}\".format(fName,mName,lName))\n",
    "#menggunakan key\n",
    "print(\"Nama Anda :{depan} {tengah} {belakang}\".format(belakang=lName,depan=fName,tengah=mName))"
   ]
  },
  {
   "cell_type": "markdown",
   "id": "bb225ad8",
   "metadata": {},
   "source": [
    "<h1>\"Slicing\"</h1>"
   ]
  },
  {
   "cell_type": "code",
   "execution_count": 6,
   "id": "5c232c91",
   "metadata": {},
   "outputs": [
    {
     "name": "stdout",
     "output_type": "stream",
     "text": [
      "Isikan Nama Kampus Anda:Nusa Putra\n",
      "N\n",
      "Nusa \n",
      "a\n",
      "usa Putra\n"
     ]
    }
   ],
   "source": [
    "#mengambil string/karakter dari string berdasarkan index\n",
    "\n",
    "university = input(\"Isikan Nama Kampus Anda:\")\n",
    "#mencetakan karakter pertama\n",
    "print(university[0])\n",
    "#mencetak karakter pertama sampai ke 5\n",
    "print(university[0:5])\n",
    "#mencetak karakter paling akhir\n",
    "print(university[-1])\n",
    "#mencetak karakter ke 2 sampai selesai\n",
    "print(university[1:])"
   ]
  },
  {
   "cell_type": "markdown",
   "id": "5f8daadf",
   "metadata": {},
   "source": [
    "<h1>\"Fungsi String\"</h1>"
   ]
  },
  {
   "cell_type": "code",
   "execution_count": 15,
   "id": "6713869d",
   "metadata": {},
   "outputs": [
    {
     "name": "stdout",
     "output_type": "stream",
     "text": [
      "Isikan Nama Lengkap :Sulastri Syamsudin Ratuloli\n",
      "Nama Depan Sulastri\n",
      "Nama Tengah Syamsudin\n",
      "Nama Belakang Ratuloli\n",
      "Nama Anda Adalah Sulastri Syamsudin Ratuloli\n",
      "5\n"
     ]
    }
   ],
   "source": [
    "fullName = input(\"Isikan Nama Lengkap :\")\n",
    "#split - untuk memisahkan string berdasarkan karakter tertentu\n",
    "name = fullName.split(' ')\n",
    "print(\"Nama Depan\",name[0])\n",
    "print(\"Nama Tengah\",name[1])\n",
    "print(\"Nama Belakang\",name[2])\n",
    "\n",
    "#print string\n",
    "print(f\"Nama Anda Adalah {fullName}\")#sering digunakan\n",
    "\n",
    "#find untuk mencari karakter dalam string\n",
    "#jika ditemukan akan mengembalikan posisi index\n",
    "#jika tidak ditemukan mengembalikan nilai -1\n",
    "platMobil = \"N7865BB\"\n",
    "print(platMobil.find(\"B\"))"
   ]
  },
  {
   "cell_type": "code",
   "execution_count": 17,
   "id": "f6b38b10",
   "metadata": {},
   "outputs": [
    {
     "name": "stdout",
     "output_type": "stream",
     "text": [
      "Masukan Email Anda:sulastrisyamsudin736@gmail.com\n",
      "posisi '@' : 20\n",
      "posisi '.' : 20\n",
      "Email valid\n"
     ]
    }
   ],
   "source": [
    "email = input(\"Masukan Email Anda:\")\n",
    "cek1 = email.find(\"@\")\n",
    "cek2 = email.find(\".\")\n",
    "\n",
    "print(\"posisi '@' :\", cek1)\n",
    "print(\"posisi '.' :\", cek1)\n",
    "cekValid = \"Email valid\" if cek1 > -1 and cek2 > -1 and cek1 < cek2 else \"Tidak Valid\"\n",
    "print(cekValid)"
   ]
  },
  {
   "cell_type": "markdown",
   "id": "326b747c",
   "metadata": {},
   "source": [
    "<h1>\"Random\"</h1>"
   ]
  },
  {
   "cell_type": "code",
   "execution_count": 24,
   "id": "920ef48f",
   "metadata": {},
   "outputs": [
    {
     "name": "stdout",
     "output_type": "stream",
     "text": [
      "Hasil dari nilai Acak adalah 0.2736942008215675\n",
      "Hasil dari Nilai acak bulat adalah 92\n",
      "Hasil dari acak Bulan adalah (sMonth)\n",
      "Hasil dari acak Bulan adalah (sDay)\n",
      "Berapakah 65 + 67:\n",
      "Isikan Hasilnya:132\n",
      "Anda Benar !!!\n"
     ]
    }
   ],
   "source": [
    "from random import random #mengacak nilai float\n",
    "nilai = random()\n",
    "print(f\"Hasil dari nilai Acak adalah {nilai}\")\n",
    "\n",
    "from random import randint\n",
    "nilaiInt = randint(0,100)\n",
    "print(f\"Hasil dari Nilai acak bulat adalah {nilaiInt}\")\n",
    "\n",
    "from random import choice\n",
    "\n",
    "month = [\"Jan\",\"Feb\",\"Mar\",\"Apr\",\"Mey\",\"Jun\",\"Jul\",\"Agust\",\"Sep\",\"Oct\",\"Nov\",\"Des\"]\n",
    "day = [[\"Mon\",1],[\"Tue\",2],[\"Wed\",3],[\"Thur\",4],[\"Fri\",5],[\"Sat\",6],[\"Sun\",7]]\n",
    "\n",
    "month = choice(month)\n",
    "Day = choice(day)\n",
    "print(f\"Hasil dari acak Bulan adalah (sMonth)\")\n",
    "print(f\"Hasil dari acak Bulan adalah (sDay)\")\n",
    "\n",
    "nilai1 = randint(0,100)\n",
    "nilai2 = randint(0,100)\n",
    "print(f\"Berapakah {nilai1} + {nilai2}:\")\n",
    "jawab = int(input(\"Isikan Hasilnya:\"))\n",
    "cekJawab = \"Anda Benar !!!\" if jawab ==nilai1 + nilai2 else \"Anda Salah !!\"\n",
    "print(cekJawab)"
   ]
  },
  {
   "cell_type": "code",
   "execution_count": 35,
   "id": "1608dd6b",
   "metadata": {},
   "outputs": [
    {
     "name": "stdout",
     "output_type": "stream",
     "text": [
      "Berapakh 85 + 69:\n",
      "Isikan Hasilnya:154\n",
      "Anda Benar !!!\n"
     ]
    }
   ],
   "source": [
    "from random import randint,choice\n",
    "\n",
    "nilai1 = randint(0,100)\n",
    "nilai2 = randint(0,100)\n",
    "operator = [\"+\",\"-\",\"*\",\"/\"]\n",
    "sOperator = choice(operator)\n",
    "print(f\"Berapakh {nilai1} {sOperator} {nilai2}:\")\n",
    "jawab = int(input(\"Isikan Hasilnya:\"))\n",
    "\n",
    "#IF ELSE \n",
    "if sOperator == \"+\":\n",
    "    cekJawab = \"Anda Benar !!!\" if jawab == nilai1 + nilai2 else \"Anda Salah !!\"\n",
    "elif sOperator == \"-\":\n",
    "    cekJawab = \"Anda Benar !!!\" if jawab == nilai1 - nilai2 else \"Anda Salah !!\"\n",
    "elif sOperator == \"*\":\n",
    "    cekJawab = \"Anda Benar !!!\" if jawab == nilai1 * nilai2 else \"Anda Salah !!\"\n",
    "elif sOperator == \"/\":\n",
    "    cekJawab = \"Anda Benar !!!\" if jawab == nilai // nilai2 else \"Anda Salah !!\"\n",
    "\n",
    "print(cekJawab)"
   ]
  },
  {
   "cell_type": "code",
   "execution_count": 39,
   "id": "4cc337f1",
   "metadata": {},
   "outputs": [
    {
     "name": "stdout",
     "output_type": "stream",
     "text": [
      "ENG->IND (1) , IND->ENG (2)eat->makan (1), makan->eat (2)\n"
     ]
    },
    {
     "ename": "ValueError",
     "evalue": "invalid literal for int() with base 10: 'eat->makan (1), makan->eat (2)'",
     "output_type": "error",
     "traceback": [
      "\u001b[1;31m---------------------------------------------------------------------------\u001b[0m",
      "\u001b[1;31mValueError\u001b[0m                                Traceback (most recent call last)",
      "Input \u001b[1;32mIn [39]\u001b[0m, in \u001b[0;36m<cell line: 4>\u001b[1;34m()\u001b[0m\n\u001b[0;32m      2\u001b[0m kamus \u001b[38;5;241m=\u001b[39m [[\u001b[38;5;124m\"\u001b[39m\u001b[38;5;124mmakan\u001b[39m\u001b[38;5;124m\"\u001b[39m,\u001b[38;5;124m\"\u001b[39m\u001b[38;5;124meat\u001b[39m\u001b[38;5;124m\"\u001b[39m],[\u001b[38;5;124m\"\u001b[39m\u001b[38;5;124mminum\u001b[39m\u001b[38;5;124m\"\u001b[39m,\u001b[38;5;124m\"\u001b[39m\u001b[38;5;124mdrink\u001b[39m\u001b[38;5;124m\"\u001b[39m],[\u001b[38;5;124m\"\u001b[39m\u001b[38;5;124mmembaca\u001b[39m\u001b[38;5;124m\"\u001b[39m,\u001b[38;5;124m\"\u001b[39m\u001b[38;5;124mreading\u001b[39m\u001b[38;5;124m\"\u001b[39m],[\u001b[38;5;124m\"\u001b[39m\u001b[38;5;124mberenang\u001b[39m\u001b[38;5;124m\"\u001b[39m,\u001b[38;5;124m\"\u001b[39m\u001b[38;5;124mswim\u001b[39m\u001b[38;5;124m\"\u001b[39m]]\n\u001b[0;32m      3\u001b[0m sKamus \u001b[38;5;241m=\u001b[39m choice(kamus)\n\u001b[1;32m----> 4\u001b[0m pilihan \u001b[38;5;241m=\u001b[39m \u001b[38;5;28;43mint\u001b[39;49m\u001b[43m(\u001b[49m\u001b[38;5;28;43minput\u001b[39;49m\u001b[43m(\u001b[49m\u001b[38;5;124;43m\"\u001b[39;49m\u001b[38;5;124;43mENG->IND (1) , IND->ENG (2)\u001b[39;49m\u001b[38;5;124;43m\"\u001b[39;49m\u001b[43m)\u001b[49m\u001b[43m)\u001b[49m\n\u001b[0;32m      5\u001b[0m \u001b[38;5;28;01mif\u001b[39;00m pilihan \u001b[38;5;241m==\u001b[39m\u001b[38;5;241m1\u001b[39m:\n\u001b[0;32m      6\u001b[0m     \u001b[38;5;28mprint\u001b[39m(\u001b[38;5;124mf\u001b[39m\u001b[38;5;124m\"\u001b[39m\u001b[38;5;124mApa arti dari \u001b[39m\u001b[38;5;132;01m{\u001b[39;00msKamus[\u001b[38;5;241m1\u001b[39m]\u001b[38;5;132;01m}\u001b[39;00m\u001b[38;5;124m?\u001b[39m\u001b[38;5;124m\"\u001b[39m)\n",
      "\u001b[1;31mValueError\u001b[0m: invalid literal for int() with base 10: 'eat->makan (1), makan->eat (2)'"
     ]
    }
   ],
   "source": [
    "from random import choice\n",
    "kamus = [[\"makan\",\"eat\"],[\"minum\",\"drink\"],[\"membaca\",\"reading\"],[\"berenang\",\"swim\"]]\n",
    "sKamus = choice(kamus)\n",
    "pilihan = int(input(\"ENG->IND (1) , IND->ENG (2)\"))\n",
    "if pilihan ==1:\n",
    "    print(f\"Apa arti dari {sKamus[1]}?\")\n",
    "    jawab = input(\"Isikan Jawaban:\")\n",
    "    cekTranslate = \"Anda Benar !!\" if jawab.lower() == sKamus[0] else \"Anda Salah !\"\n",
    "elif pilihan ==2:\n",
    "    print(f\"Apa bahasa inggris dari {sKamus[0]}?\")\n",
    "    jawab = input(\"Isikan Jawaban:\")\n",
    "    cekTranslate = \"Anda Benar !!\" if jawab.lower() == sKamus[1] else \"Anda Salah !\"\n",
    "    \n",
    "print(cekTranslate)"
   ]
  },
  {
   "cell_type": "code",
   "execution_count": 38,
   "id": "afdd1f58",
   "metadata": {},
   "outputs": [
    {
     "name": "stdout",
     "output_type": "stream",
     "text": [
      "Apa Bahasa Inggrisnya Minum\n",
      "Masukan Jawaban : drink\n",
      "Anda Benar !!\n"
     ]
    }
   ],
   "source": [
    "kata = [\"Makan\",\"Minum\",\"Berenang\"]\n",
    "sKata = choice(kata)\n",
    "print(f\"Apa Bahasa Inggrisnya {sKata}\")\n",
    "jawab = input(\"Masukan Jawaban : \")\n",
    "if sKata == \"Makan\":\n",
    "    cekJawab = \"Anda Benar !!\" if jawab== \"eat\" else \"Anda Salah !!\"\n",
    "elif sKata == \"Minum\":\n",
    "    cekJawab = \"Anda Benar !!\" if jawab== \"drink\" else \"Anda Salah !!\"\n",
    "elif sKata == \"Berenang\":\n",
    "    cekJawab = \"Anda Benar !!\" if jawab== \"swimming\" else \"Anda Salah !!\"\n",
    "    \n",
    "print(cekJawab)"
   ]
  }
 ],
 "metadata": {
  "kernelspec": {
   "display_name": "Python 3 (ipykernel)",
   "language": "python",
   "name": "python3"
  },
  "language_info": {
   "codemirror_mode": {
    "name": "ipython",
    "version": 3
   },
   "file_extension": ".py",
   "mimetype": "text/x-python",
   "name": "python",
   "nbconvert_exporter": "python",
   "pygments_lexer": "ipython3",
   "version": "3.9.12"
  }
 },
 "nbformat": 4,
 "nbformat_minor": 5
}
