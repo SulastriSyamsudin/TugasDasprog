{
 "cells": [
  {
   "cell_type": "code",
   "execution_count": 7,
   "id": "e3f73634-175d-42e2-b910-d5ea166d96f1",
   "metadata": {},
   "outputs": [
    {
     "name": "stdin",
     "output_type": "stream",
     "text": [
      "Masukan nama  sulastri syamsudin\n",
      "Masukan usia:  18 tahun\n",
      "Masukan alamat:  cibolang\n",
      "Masukan unversitas:  nusa putra\n"
     ]
    },
    {
     "name": "stdout",
     "output_type": "stream",
     "text": [
      "\n",
      "Biodata Anda:\n",
      " Nama: sulastri syamsudin\n",
      "Usia: 18 tahun\n",
      "Alamat: cibolang\n",
      "universitas: nusa putra\n"
     ]
    }
   ],
   "source": [
    "# Input data dari pengguna\n",
    "nama = input(\"Masukan nama \")\n",
    "usia = input(\"Masukan usia: \")\n",
    "alamat = input(\"Masukan alamat: \")\n",
    "universitas = input(\"Masukan unversitas: \")\n",
    "\n",
    "# Menampilkan output dengan format()\n",
    "biodata = \"Nama: {}\\nUsia: {}\\nAlamat: {}\\nuniversitas: {}\".format(nama, usia, alamat, universitas)\n",
    "print(\"\\nBiodata Anda:\\n\", biodata)"
   ]
  },
  {
   "cell_type": "code",
   "execution_count": 5,
   "id": "b29f2fc2-2d16-4133-b4e9-e6aa7f742f93",
   "metadata": {},
   "outputs": [
    {
     "name": "stdout",
     "output_type": "stream",
     "text": [
      "\n",
      "Hasil Manipulasi String: \n",
      "a. putra nusa universitas\n",
      "b. NVRSTS NS PTR SKBM\n",
      "c. SUKABUMI PUTRA NUSA UNIVERSITAS\n",
      "d. UNPS\n",
      "e. SATISREVINU ASUN ARTUP IMUBAKUS\n"
     ]
    }
   ],
   "source": [
    "kalimat = \"UNIVERSITAS NUSA PUTRA SUKABUMI\"\n",
    "\n",
    "# a. Mengambil \"putra nusa\"\n",
    "output_a = \" \".join(kalimat.split()[2::-1]) # \"PUTRA\" dan \"NUSA\" dibalik\n",
    "\n",
    "# b. Mengahapus huruf vokal\n",
    "output_b = \"\".join([huruf for huruf in kalimat if huruf.lower() not in \"aeiou\"])\n",
    "\n",
    "# c. Menukar urutan kata\n",
    "output_c = \" \".join(kalimat.split()[::-1])\n",
    "\n",
    "# d. Membuat singkatan (menngambil huruf pertama tiap kata)\n",
    "output_d = \"\".join([kata[0] for kata in kalimat.split()])\n",
    "\n",
    "\n",
    "# e. Membalik urutan huruf dalam kata\n",
    "output_e = \" \".join(kata[::-1] for kata in kalimat.split())\n",
    "\n",
    "# Menampilkan hasil\n",
    "print(\"\\nHasil Manipulasi String: \")\n",
    "print(f\"a. {output_a.lower()}\") # Lowercase sesuai dengan contoh\n",
    "print(f\"b. {output_b}\")\n",
    "print(f\"c. {output_c}\")\n",
    "print(f\"d. {output_d}\")\n",
    "print(f\"e. {output_e}\")"
   ]
  }
 ],
 "metadata": {
  "kernelspec": {
   "display_name": "Python [conda env:base] *",
   "language": "python",
   "name": "conda-base-py"
  },
  "language_info": {
   "codemirror_mode": {
    "name": "ipython",
    "version": 3
   },
   "file_extension": ".py",
   "mimetype": "text/x-python",
   "name": "python",
   "nbconvert_exporter": "python",
   "pygments_lexer": "ipython3",
   "version": "3.12.7"
  }
 },
 "nbformat": 4,
 "nbformat_minor": 5
}
