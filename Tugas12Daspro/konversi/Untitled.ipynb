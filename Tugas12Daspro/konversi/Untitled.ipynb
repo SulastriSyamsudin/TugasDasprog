{
 "cells": [
  {
   "cell_type": "code",
   "execution_count": 1,
   "id": "f6f76fc0-a1c7-42c5-b650-6b1aa7c48d0f",
   "metadata": {},
   "outputs": [],
   "source": [
    "def cmToMeter (cm):\n",
    "    return cm/100\n",
    "\n",
    "def meterToCm (meter):\n",
    "    return meter*100"
   ]
  },
  {
   "cell_type": "code",
   "execution_count": null,
   "id": "5fcd4914-5c3f-4156-b5b2-da4beb07f83c",
   "metadata": {},
   "outputs": [],
   "source": []
  }
 ],
 "metadata": {
  "kernelspec": {
   "display_name": "Python [conda env:anaconda3]",
   "language": "python",
   "name": "conda-env-anaconda3-py"
  },
  "language_info": {
   "codemirror_mode": {
    "name": "ipython",
    "version": 3
   },
   "file_extension": ".py",
   "mimetype": "text/x-python",
   "name": "python",
   "nbconvert_exporter": "python",
   "pygments_lexer": "ipython3",
   "version": "3.12.7"
  }
 },
 "nbformat": 4,
 "nbformat_minor": 5
}
